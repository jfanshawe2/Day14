{
 "cells": [
  {
   "cell_type": "markdown",
   "id": "6ce44393-3036-4c90-904f-1e85718f57fb",
   "metadata": {},
   "source": [
    "## Introduction to Data Science\n",
    "\n",
    "#### University of Redlands - DATA 101\n",
    "#### Prof: Joanna Bieri [joanna_bieri@redlands.edu](mailto:joanna_bieri@redlands.edu)\n",
    "#### [Class Website: data101.joannabieri.com](https://joannabieri.com/data101.html)\n",
    "\n",
    "---------------------------------------\n",
    "# Homework Day 14\n",
    "---------------------------------------\n",
    "\n",
    "GOALS:\n",
    "\n",
    "1. Reflect on Algorithmic bias\n",
    "2. Consider your role in Data Ethics\n",
    "3. Report on your reading.\n",
    "\n",
    "----------------------------------------------------------\n",
    "\n",
    "This homework has **3 questions** and **1 reading report**"
   ]
  },
  {
   "cell_type": "markdown",
   "id": "d0c422e3-32b1-452f-89a8-2586784d3957",
   "metadata": {},
   "source": [
    "## Important Information\n",
    "\n",
    "- Email: [joanna_bieri@redlands.edu](mailto:joanna_bieri@redlands.edu)\n",
    "- Office Hours: Duke 209 <a href=\"https://joannabieri.com/schedule.html\"> Click Here for Joanna's Schedule</a>\n",
    "\n",
    "## Day 14 Assignment - same drill.\n",
    "\n",
    "1. Make sure you can **Fork** and **Clone** the Day14 repo from [Redlands-DATA101](https://github.com/Redlands-DATA101)\n",
    "2. Open the file Day14-HW.ipynb and start doing the problems.\n",
    "    * You can do these problems as you follow along with the lecture notes and video.\n",
    "3. Get as far as you can before class.\n",
    "4. Submit what you have so far **Commit** and **Push** to Git.\n",
    "5. Take the daily check in quiz on **Canvas**.\n",
    "7. Come to class with lots of questions!\n",
    "\n",
    "## If you start having trouble with git!!!\n",
    "\n",
    "Some people have reported that GIT is disappearing or giving errors on when they try to use it in Jupyter Lab. Here is another option for interacting with git:\n",
    "\n",
    "[Git Desktop](https://github.com/apps/desktop)\n",
    "\n",
    "If yous start having errors, try downloading this app. I can show you how to use it in class."
   ]
  },
  {
   "cell_type": "markdown",
   "id": "15fd0fc5-0e82-4265-a328-e906366c4907",
   "metadata": {},
   "source": [
    "## Report on your Data Ethics reading:\n",
    "\n",
    "**Your answers should be written as neatly as possible in Markdown cells**\n",
    "\n",
    "Your homework for today is all essay and written work. Make sure you respond to the three questions in the lecture:\n",
    "\n",
    "**Q1** What is your response to our discussion of bias in algorithms? Talk about the pluses and minuses of using algorithms to make decisions in our human world.\n",
    "\n",
    "**Q2**\n",
    "How do you train yourself to make the right decisions (or reduce the likelihood of accidentally making the wrong decisions) at those points?\n",
    "\n",
    "**Q3**\n",
    "How do you respond when you see bias in someones work? How could you take action to educate others?\n",
    "\n",
    "\n",
    "**Reading Report**\n",
    "\n",
    "Write a report about what you learned from your ethics reading exploration. For each book/article you read:\n",
    "\n",
    "1. Include a full proper reference to the book/article.\n",
    "   * BOOK: Author last name, First name. Book Title: Subtitle. Edition, Publisher, Year.\n",
    "   * ONLINE ARTICLE: Author last name, First name. Article Title. Website name, date accessed. html link.\n",
    "   * [MLA styles for citing other types of online work](https://style.mla.org/works-cited/citations-by-format/online-works/?gad_source=1)\n",
    "2. Write a summary in your own words what the book/article was about. Imagine telling your classmates about what they would learn by reading the article.\n",
    "3. Discuss your own reaction to the book/article. Did it have any effect on how you think about data and ethics? Do you agree with the author? What specific ideas really stood out to you?"
   ]
  },
  {
   "cell_type": "markdown",
   "id": "bf53176f-7926-4d4e-967c-5b5bbd011abe",
   "metadata": {},
   "source": [
    "**Q1** I would say that bias in algorithms is realistically inevitable. Without fully open and unbiased data it is inevitable for an algorithm to produce some bias as the data it is interacting with is already bias. Algorithms provide us with the ability to make conclusions and meaningful inference about large sets of data with efficiency, accuracy, and speed. They allow for tasks that would take humans almost forever, to be done quickly and provide consistency as computers do not get fatigued which leads to errors. However, algorithms can inhereit and ampligy bias based on the data they are trained on. For instance, if a data set has social prejudices such as, racial bias, then the algorithm will learn from this. As such, algorithms rely on quality, complete, and unbiased data and the algorithm can only be as good as this data. Further, even given unbiased data, algorithms will tend to uncover trends about groups of indivuals or things, that even if society wants to be phase out may still be true as the underlying data shows this."
   ]
  },
  {
   "cell_type": "markdown",
   "id": "6a527f22-684c-4aee-aa4d-afd435a9c996",
   "metadata": {},
   "source": [
    "**Q2** To make the right decisions I look at the data that is being used before it has been altered, as when it is altered this tends to be when bias is introduced. By looking at the unaltered data I am able to draw my own basic conclusions on the data and compare this to the results drawn by machine learning or indivuals. Also, when interacting with an algorithm I seek to give it fully unbiased data and consider what bias it may already have as a result of learning from other data and its creators."
   ]
  },
  {
   "cell_type": "markdown",
   "id": "7335bfa0-82c0-46d7-9734-f4300dedfa54",
   "metadata": {},
   "source": [
    "**Q3** When I see bias in someones work usually I will be curious about what created this bias. Whilst, if I see bias on the internet I tend to laugh or find a different article, if faced with educating someone on this bias, I would seek to offer constructive alternatives and respectfully point out the areas of bias, once I have asked questions to fully determine if there is bias in this work. After this, I would seek to educate the person as to why we must avoid bias."
   ]
  },
  {
   "cell_type": "markdown",
   "id": "9ca89bb8-e1ea-4af6-aea6-faf8874deaf2",
   "metadata": {},
   "source": [
    "**Reading Report**\n",
    "CitedCepelak, Christine. “An Introduction to Data Ethics: What Is the Ethical Use of Data?” Datacamp.com, DataCamp, 2 Feb. 2023, www.datacamp.com/blog/introduction-to-data-ethics. Accessed 24 Oct. 2024.\n",
    "This article provides an overview of data ethics. Specifically, relating to the collection, protection, and usage of data. It highlights ethical challenges such as, data breaches and biased algorithms whilst stressing the significance of principles like transparency. This article didn't have too much of an effect on me as it was stuff I've already known about data ethics. I did like the wholistic approach given, it was accurate information and provides an overview to data ethics. I would say the idea that stood out to me the most is the section on understanding the current data ethics landscape, particularly the figure on the percentage of persnal data categories share with third parties by selected IOS apps. The figure showed instagram shared 79% of personal data with facebook at 57%, for me this really showed why data ethics is so important and that your data is not safe with big organisations.\n",
    "\n",
    "Cote, Catherine. “5 Principles of Data Ethics for Business.” Harvard Business School Online, 2021, online.hbs.edu/blog/post/data-ethics. Accessed 24 Oct. 2024.\n",
    "This article outlines 5 principles of data ethics and their importance in modern business practices. It discusses ownershipm transparency, privacy, intention, and outcomes as well as the ethical use of algorithms. I really liked this article as it gave a brief well rounded snapshot of the most important issues in data ethics. I somewhat disagree with the author in this article, simply because the main issues of data ethics presented are oversimplfied. I believe data ethics is a very complex issue and oversimplication risks making the issue sound too simple. Given the simplicity of the article no great emotional effect from reading the article was present.\n",
    "\n",
    "Dominguez, Sabrina. “Big Data Ethics and 10 Controversial Data Science Experiments.” Datasciencedojo.com, 21 May 2018, datasciencedojo.com/blog/big-data-ethics-10-experiments/. Accessed 24 Oct. 2024.\n",
    "This article examines 10 notable instances where data science experiments have raised ethical concerns. It highlights 10 large cases where big data has been misused. I really like this article as it shows how big the and important data ethics is by giving real world examples of misuse. For me this article makes the issue of data ethics very tangible and as such, changed my perspective on data ethics. It showed me that data ethics is not a safeguard to issues in the future but something that is a very real issue in the current world. I really agree with the author with the approach of presenting 10 real world examples to get people interested and thinking about data ethics as appose to trying to educate people on how to stop data ethics issues without getting people interested in the issue.\n",
    "\n",
    "Segalla, Michael, and Dominique Rouziès. “The Ethics of Managing People’s Data.” Harvard Business Review, July 2023, hbr.org/2023/07/the-ethics-of-managing-peoples-data. Accessed 24 Oct. 2024.\n",
    "This article emphasizes the importance of ethics in data management through outlining five key issues: provenance, purpose, protection, privacy, and preparation. I like this article as it attacks the issue with an easy to remember slogan \"the 5 p's\". Further, it goes in depth to each of these 5 unlike the article above which was oversimplifed. This article made me realise that data ethics is a very broad issue that requires a large number of people that have a variety of different skillsets to properly tackle the issue. A single data ethics head will likely not be able to fully cover all ethical concerns. I agree with everything the author says in this piece.\n",
    "\n",
    "Q2\n"
   ]
  },
  {
   "cell_type": "markdown",
   "id": "c6faae4b-ce39-4695-a87f-99e40bda1322",
   "metadata": {},
   "source": [
    "\n",
    "-------------------------------------------------------\n",
    "\n",
    "## Further watching\n",
    "\n",
    "If you have time, really explore the world of data ethics. You could watch some of the videos linked from class.\n",
    "\n",
    "### Weapons of Math Destruction | Cathy O'Neil | Talks at Google\n",
    "\n",
    "{{< video https://www.youtube.com/watch?v=TQHs8SA1qpk >}}\n",
    "\n",
    "### Imagining a Future Free from the Algorithms of Oppression | Safiya Noble | ACL 2019\n",
    "\n",
    "{{< video https://www.youtube.com/watch?v=tNi_U1Bb1S0 >}}\n",
    "\n",
    "### Whats An Algorithm Got To Do With It\n",
    "\n",
    "{{< video https://www.youtube.com/watch?v=5zxDwA99soA >}}"
   ]
  },
  {
   "cell_type": "code",
   "execution_count": null,
   "id": "d75adfae-6e62-4549-9856-bf7030620521",
   "metadata": {},
   "outputs": [],
   "source": []
  }
 ],
 "metadata": {
  "kernelspec": {
   "display_name": "Python 3 (ipykernel)",
   "language": "python",
   "name": "python3"
  },
  "language_info": {
   "codemirror_mode": {
    "name": "ipython",
    "version": 3
   },
   "file_extension": ".py",
   "mimetype": "text/x-python",
   "name": "python",
   "nbconvert_exporter": "python",
   "pygments_lexer": "ipython3",
   "version": "3.12.2"
  }
 },
 "nbformat": 4,
 "nbformat_minor": 5
}
